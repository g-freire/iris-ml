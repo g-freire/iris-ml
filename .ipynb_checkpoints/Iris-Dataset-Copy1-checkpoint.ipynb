{
 "cells": [
  {
   "cell_type": "markdown",
   "metadata": {},
   "source": [
    "## Iris Dataset"
   ]
  },
  {
   "cell_type": "code",
   "execution_count": null,
   "metadata": {},
   "outputs": [],
   "source": [
    "%%time\n",
    "%load_ext autoreload\n",
    "%autoreload 2"
   ]
  },
  {
   "cell_type": "code",
   "execution_count": null,
   "metadata": {},
   "outputs": [],
   "source": [
    "import numpy as np\n",
    "import pandas as pd\n",
    "import sklearn\n",
    "import scipy\n",
    "import matplotlib.pyplot as plt\n",
    "import seaborn as sns \n",
    "\n",
    "from pandas.plotting import scatter_matrix\n",
    "from tqdm import tqdm, tqdm_notebook\n",
    "from scipy import stats\n",
    "from sklearn import model_selection\n",
    "# models\n",
    "from sklearn.linear_model import LogisticRegression\n",
    "from sklearn.tree import DecisionTreeClassifier\n",
    "from sklearn.neighbors import KNeighborsClassifier\n",
    "from sklearn.discriminant_analysis import LinearDiscriminantAnalysis\n",
    "from sklearn.naive_bayes import GaussianNB\n",
    "from sklearn.svm import SVC\n",
    "# metrics\n",
    "from sklearn.metrics import classification_report\n",
    "from sklearn.metrics import confusion_matrix\n",
    "from sklearn.metrics import accuracy_score"
   ]
  },
  {
   "cell_type": "markdown",
   "metadata": {},
   "source": [
    "<h4>Descriptive Analysis of dataset</h4>"
   ]
  },
  {
   "cell_type": "code",
   "execution_count": null,
   "metadata": {},
   "outputs": [],
   "source": [
    "url = \"https://raw.githubusercontent.com/jbrownlee/Datasets/master/iris.csv\"\n",
    "names = ['sepal-length', 'sepal-width', 'petal-length', 'petal-width', 'class']\n",
    "df = pd.read_csv(url, names=names) # via url aumenta latencia\n",
    "df"
   ]
  },
  {
   "cell_type": "code",
   "execution_count": null,
   "metadata": {},
   "outputs": [],
   "source": []
  },
  {
   "cell_type": "code",
   "execution_count": null,
   "metadata": {},
   "outputs": [],
   "source": [
    "url = \"https://archive.ics.uci.edu/ml/machine-learning-databases/iris/iris.data\"  \n",
    "names = ['sepal-length', 'sepal-width', 'petal-length', 'petal-width', 'class']\n",
    "df = pd.read_csv('iris.csv', names=names) # via url aumenta latencia\n",
    "df.head()"
   ]
  },
  {
   "cell_type": "code",
   "execution_count": null,
   "metadata": {},
   "outputs": [],
   "source": [
    "df.sample(10)"
   ]
  },
  {
   "cell_type": "code",
   "execution_count": null,
   "metadata": {},
   "outputs": [],
   "source": [
    "df.info()"
   ]
  },
  {
   "cell_type": "code",
   "execution_count": null,
   "metadata": {},
   "outputs": [],
   "source": [
    "df.describe()"
   ]
  },
  {
   "cell_type": "code",
   "execution_count": null,
   "metadata": {},
   "outputs": [],
   "source": [
    "only_numeric_columns = df.iloc[:,:-1]\n",
    "stats.describe(only_numeric_columns)"
   ]
  },
  {
   "cell_type": "code",
   "execution_count": null,
   "metadata": {},
   "outputs": [],
   "source": [
    "df.isnull().sum()"
   ]
  },
  {
   "cell_type": "markdown",
   "metadata": {},
   "source": [
    "<h3>Data Visualizations </h3>"
   ]
  },
  {
   "cell_type": "code",
   "execution_count": null,
   "metadata": {},
   "outputs": [],
   "source": [
    "sns.pairplot(df,\n",
    "             plot_kws = {'alpha': 0.4, 's': 80, 'edgecolor': 'k'},\n",
    "             height = 3)\n",
    "plt.show()          \n"
   ]
  },
  {
   "cell_type": "code",
   "execution_count": null,
   "metadata": {},
   "outputs": [],
   "source": [
    "sns.pairplot(df, kind=\"reg\")\n",
    "plt.show()"
   ]
  },
  {
   "cell_type": "code",
   "execution_count": null,
   "metadata": {},
   "outputs": [],
   "source": [
    "sns.pairplot(df , hue='class',  diag_kind = 'kde',\n",
    "             plot_kws = {'alpha': 0.4, 's': 80, 'edgecolor': 'k'},\n",
    "             height = 3, markers=[\"o\", \"s\", \"D\"],)\n",
    "plt.show()"
   ]
  },
  {
   "cell_type": "code",
   "execution_count": null,
   "metadata": {},
   "outputs": [],
   "source": [
    "fig, ax = plt.subplots(figsize=(15,10))\n",
    "\n",
    "sns.scatterplot(\n",
    "    'sepal-length',\n",
    "    'sepal-width',\n",
    "    hue='class',\n",
    "    size='petal-width',\n",
    "    alpha=0.75,\n",
    "    legend='brief',\n",
    "    data=df,\n",
    "    ax = ax\n",
    ")\n",
    "\n",
    "ax.set_xlabel('Sepal Length', size=22)\n",
    "ax.set_ylabel('Sepal Width', size = 22)\n",
    "\n",
    "ax.text(x=0.5, y=1.1, s='Sepal Length vs Width', fontsize=30, weight='bold', ha='center', va='bottom', transform=ax.transAxes)\n",
    "ax.text(x=0.5, y=1.05, s='The size of each point corresponds to sepal width', fontsize=20, alpha=0.75, ha='center', va='bottom', transform=ax.transAxes)\n",
    "\n",
    "h,l = ax.get_legend_handles_labels()\n",
    "ax.legend(h[:4],l[:4], bbox_to_anchor=(1.05, 1), loc=2)\n",
    "\n",
    "fig.tight_layout()\n",
    "plt.show()"
   ]
  },
  {
   "cell_type": "code",
   "execution_count": null,
   "metadata": {},
   "outputs": [],
   "source": [
    "df.hist()\n",
    "plt.show()"
   ]
  },
  {
   "cell_type": "code",
   "execution_count": null,
   "metadata": {},
   "outputs": [],
   "source": [
    "df.plot(kind='box', subplots=True, layout=(2,2), sharex=False, sharey=False)\n",
    "plt.show()\n",
    "print(df.describe())"
   ]
  },
  {
   "cell_type": "code",
   "execution_count": null,
   "metadata": {},
   "outputs": [],
   "source": [
    "plt.figure(figsize=(18,5))\n",
    "sns.heatmap(df.corr(), annot=True, linewidths=.5,  cmap='coolwarm', robust=True, fmt=\".3f\", annot_kws={'size':14})\n",
    "plt.title(\"Correlation HeatMap\")\n",
    "plt.show()"
   ]
  },
  {
   "cell_type": "code",
   "execution_count": null,
   "metadata": {},
   "outputs": [],
   "source": [
    "sns.set(style=\"white\")\n",
    "\n",
    "corr = df.corr()\n",
    "\n",
    "# Generate a mask for the upper triangle\n",
    "mask = np.zeros_like(corr, dtype=np.bool)\n",
    "mask[np.triu_indices_from(mask)] = True\n",
    "\n",
    "# Set up the matplotlib figure\n",
    "f, ax = plt.subplots(figsize=(15, 10))\n",
    "\n",
    "# Generate a custom diverging colormap\n",
    "#cmap = sns.diverging_palette(220, 10, as_cmap=True)\n",
    "\n",
    "# Draw the heatmap with the mask and correct aspect ratio\n",
    "sns.heatmap(corr, mask=mask,  annot=True, fmt=\".3f\", annot_kws={'size':16}, cmap='coolwarm', \n",
    "            square=True, linewidths=.5, cbar_kws={\"shrink\": .5})\n",
    "plt.show()"
   ]
  },
  {
   "cell_type": "markdown",
   "metadata": {},
   "source": [
    "<h3>Modeling using ML techniques</h3>"
   ]
  },
  {
   "cell_type": "code",
   "execution_count": null,
   "metadata": {},
   "outputs": [],
   "source": [
    "np_array = df.values\n",
    "\n",
    "# INPUT \n",
    "X = np_array[:,0:4]\n",
    "print(\"INPUT\\n\", X[:5,:5])\n",
    "\n",
    "# OUTPUT - classifications\n",
    "Y = np_array[:,4]\n",
    "print(\"\\nOUTPUT\\n\", Y[:5])\n",
    "\n",
    "\n",
    "test_size = 0.20\n",
    "seed = 7\n",
    "X_train, X_test, Y_train, Y_test = model_selection.train_test_split(X, Y, test_size=test_size, random_state=seed)"
   ]
  },
  {
   "cell_type": "code",
   "execution_count": null,
   "metadata": {},
   "outputs": [],
   "source": [
    "print(\"TRAINING SHAPE \")\n",
    "print(X_train.shape)\n",
    "print(Y_train.shape)\n",
    "\n",
    "print(\"\\nTEST SHAPE\")\n",
    "print(X_test.shape)\n",
    "print(Y_test.shape)\n"
   ]
  },
  {
   "cell_type": "code",
   "execution_count": null,
   "metadata": {},
   "outputs": [],
   "source": [
    "# SCALING\n",
    "from sklearn import preprocessing\n",
    "# We starting scaling only the training set, to avoid introducing test information into the dataset(info leakeage)\n",
    "# Then we will scale the test set using the mean and std of the training set\n",
    "#X_train_scaled = preprocessing.StandardScaler().fit(X_train)\n",
    "#X_test_scaled = scaler.transform(X_test)\n",
    "\n"
   ]
  },
  {
   "cell_type": "code",
   "execution_count": null,
   "metadata": {},
   "outputs": [],
   "source": [
    "# hyperpameter tuning\n",
    "models = [\n",
    "            ('LR', LogisticRegression(solver='liblinear', multi_class='ovr')),\n",
    "            ('LDA', LinearDiscriminantAnalysis()),\n",
    "            ('KNN', KNeighborsClassifier()),\n",
    "            ('CART', DecisionTreeClassifier()),\n",
    "            ('NB', GaussianNB()),\n",
    "            ('SVM', ('SVM', SVC(gamma='auto')))          \n",
    "         ]"
   ]
  },
  {
   "cell_type": "markdown",
   "metadata": {},
   "source": [
    "#### 10K FOLD CROSSVALIDATION TRAINING "
   ]
  },
  {
   "cell_type": "code",
   "execution_count": null,
   "metadata": {},
   "outputs": [],
   "source": [
    "from warnings import simplefilter\n",
    "simplefilter(action='ignore', category=FutureWarning)\n",
    "\n",
    "model_names = []\n",
    "cv_metrics_result = []\n",
    "cv_mean_result_collection =[]\n",
    "cv_std_result_collection = []\n",
    "scoring=\"accuracy\"\n",
    "\n",
    "for name, model in models:\n",
    "\n",
    " #   kfold = model_selection.KFold(n_splits=10, random_state=7, shuffle=True)\n",
    "    kfold = model_selection.KFold(n_splits=10, random_state=7, shuffle=False)\n",
    "    cv_results = model_selection.cross_val_score(model, X_train, Y_train, scoring, cv=kfold)\n",
    "    \n",
    "    cv_metrics_result.append(cv_results)\n",
    "    model_names.append(name)\n",
    "    cv_mean_result_collection.append(round(cv_results.mean(),3))\n",
    "    cv_std_result_collection.append(round(cv_results.std(),3))                    \n",
    "    #print(name)\n",
    "    #msg = \"μ: {}  σ:{}\".format(round(cv_results.mean(),3), round(cv_results.std(),3))\n",
    "    #print(msg)\n",
    "    #print(np.round(cv_results,3), '\\n')"
   ]
  },
  {
   "cell_type": "code",
   "execution_count": null,
   "metadata": {},
   "outputs": [],
   "source": [
    "error_list = [round(1- i,3) for i in cv_mean_result_collection ]\n",
    "print(model_names)\n",
    "print(cv_mean_result_collection)\n",
    "print(error_list)"
   ]
  },
  {
   "cell_type": "code",
   "execution_count": null,
   "metadata": {},
   "outputs": [],
   "source": [
    "df_cv_results = pd.DataFrame(cv_metrics_result)\n",
    "a = df_cv_results.T \n",
    "a.columns = model_names\n",
    "df = a.T\n",
    "df['μ'] = cv_mean_result_collection\n",
    "df['σ'] = cv_std_result_collection\n",
    "df"
   ]
  },
  {
   "cell_type": "code",
   "execution_count": null,
   "metadata": {},
   "outputs": [],
   "source": [
    "plt.bar(model_names, error_list)\n",
    "plt.title('ML Models X Mean of training erros (10K CV)', size=14)\n",
    "plt.ylabel('MEAN ERROR')\n",
    "plt.show()"
   ]
  },
  {
   "cell_type": "code",
   "execution_count": null,
   "metadata": {},
   "outputs": [],
   "source": [
    "fig = plt.figure()\n",
    "fig.suptitle('ML Models X Mean of training erros distribution')\n",
    "ax = fig.add_subplot(111)\n",
    "plt.boxplot(cv_metrics_result)\n",
    "ax.set_xticklabels(model_names)\n",
    "plt.savefig('plots/benchmark.png')"
   ]
  },
  {
   "cell_type": "markdown",
   "metadata": {},
   "source": [
    "<h3>Test models with blind data</h3>"
   ]
  },
  {
   "cell_type": "code",
   "execution_count": null,
   "metadata": {},
   "outputs": [],
   "source": [
    "# hyperpameter tuning\n",
    "models = [\n",
    "            ('LR', LogisticRegression(solver='liblinear', multi_class='ovr')),\n",
    "            ('LDA', LinearDiscriminantAnalysis()),\n",
    "            ('KNN', KNeighborsClassifier()),\n",
    "            ('CART', DecisionTreeClassifier()),\n",
    "            ('NB', GaussianNB()),\n",
    "            ('SVM', ('SVM', SVC(gamma='auto')))          \n",
    "         ]\n",
    "for name, model in models:\n",
    "    print(name, model)"
   ]
  },
  {
   "cell_type": "code",
   "execution_count": null,
   "metadata": {},
   "outputs": [],
   "source": [
    "def fit_and_predict_with_model(model, X_train, Y_train, X_test):\n",
    "    fitted_model = model.fit(X_train, Y_train)\n",
    "    predictions = fitted_model.predict(X_test)\n",
    "    return predictions\n",
    "    "
   ]
  },
  {
   "cell_type": "code",
   "execution_count": null,
   "metadata": {},
   "outputs": [],
   "source": [
    "def create_model_confusion_matrix(model_name, blind_test, predictions):\n",
    "    knn_confusion_matrix = confusion_matrix(predictions,blind_test)\n",
    "    f, ax = plt.subplots(figsize=(15, 5))\n",
    "    cmap = sns.diverging_palette(220, 10, as_cmap=True)\n",
    "    sns.heatmap(knn_confusion_matrix,annot=True, fmt=\".3f\", annot_kws={'size':16}, cmap=cmap, \n",
    "                square=True, linewidths=.5, cbar_kws={\"shrink\": .5})\n",
    "    plt.suptitle(\"{} Confusion Matrix\".format(model_name), size=20)\n",
    "    accuracy = accuracy_score(blind_test, predictions)\n",
    "    plt.title(\"Accuracy score: {} \".format(accuracy), size=15)\n",
    "    plt.show()"
   ]
  },
  {
   "cell_type": "code",
   "execution_count": null,
   "metadata": {},
   "outputs": [],
   "source": [
    "%%javascript\n",
    "IPython.OutputArea.prototype._should_scroll = function(lines) {\n",
    "    return false;\n",
    "}"
   ]
  },
  {
   "cell_type": "code",
   "execution_count": null,
   "metadata": {},
   "outputs": [],
   "source": [
    "blind_test = Y_test\n",
    "for model_name, model in tqdm(models):\n",
    "    create_model_confusion_matrix(model_name, fit_and_predict_with_model(model, X_train, Y_train, X_test ), blind_test)"
   ]
  },
  {
   "cell_type": "code",
   "execution_count": null,
   "metadata": {},
   "outputs": [],
   "source": []
  },
  {
   "cell_type": "code",
   "execution_count": null,
   "metadata": {},
   "outputs": [],
   "source": []
  },
  {
   "cell_type": "code",
   "execution_count": null,
   "metadata": {},
   "outputs": [],
   "source": [
    "from tqdm.notebook import tqdm\n",
    "from time import sleep"
   ]
  },
  {
   "cell_type": "code",
   "execution_count": null,
   "metadata": {},
   "outputs": [],
   "source": [
    "for i in tqdm(range(0,100)):\n",
    "     sleep(.04)"
   ]
  },
  {
   "cell_type": "code",
   "execution_count": null,
   "metadata": {},
   "outputs": [],
   "source": []
  },
  {
   "cell_type": "code",
   "execution_count": null,
   "metadata": {},
   "outputs": [],
   "source": []
  }
 ],
 "metadata": {
  "kernelspec": {
   "display_name": "Python 3",
   "language": "python",
   "name": "python3"
  },
  "language_info": {
   "codemirror_mode": {
    "name": "ipython",
    "version": 3
   },
   "file_extension": ".py",
   "mimetype": "text/x-python",
   "name": "python",
   "nbconvert_exporter": "python",
   "pygments_lexer": "ipython3",
   "version": "3.7.5"
  }
 },
 "nbformat": 4,
 "nbformat_minor": 2
}
